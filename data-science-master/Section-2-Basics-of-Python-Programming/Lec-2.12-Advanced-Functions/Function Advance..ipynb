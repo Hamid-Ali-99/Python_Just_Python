{
 "cells": [
  {
   "cell_type": "code",
   "execution_count": 3,
   "id": "b53df2c5",
   "metadata": {},
   "outputs": [
    {
     "data": {
      "text/plain": [
       "17"
      ]
     },
     "execution_count": 3,
     "metadata": {},
     "output_type": "execute_result"
    }
   ],
   "source": [
    "square=lambda a,b:a+b\n",
    "square(9,8)"
   ]
  },
  {
   "cell_type": "code",
   "execution_count": 10,
   "id": "a3339246",
   "metadata": {},
   "outputs": [
    {
     "name": "stdout",
     "output_type": "stream",
     "text": [
      "1\n",
      "2\n",
      "3\n",
      "4\n",
      "5\n",
      "6\n",
      "7\n",
      "8\n",
      "9\n",
      "10\n",
      "11\n",
      "12\n",
      "13\n",
      "14\n",
      "15\n",
      "16\n",
      "17\n",
      "18\n",
      "19\n",
      "20\n",
      "21\n",
      "22\n",
      "23\n",
      "24\n",
      "25\n",
      "26\n",
      "27\n",
      "28\n",
      "29\n",
      "30\n",
      "31\n",
      "32\n",
      "33\n",
      "34\n",
      "35\n",
      "36\n",
      "37\n",
      "38\n",
      "39\n",
      "40\n",
      "41\n",
      "42\n",
      "43\n",
      "44\n",
      "45\n",
      "46\n",
      "47\n",
      "48\n",
      "49\n"
     ]
    }
   ],
   "source": [
    "def funt():\n",
    "    for i in range(0,50):\n",
    "        if(i%2!=0 or i%3!=0 or i%5!=0 or i%7!=0):\n",
    "            print(i)\n",
    "funt()"
   ]
  },
  {
   "cell_type": "code",
   "execution_count": 9,
   "id": "3c2a1a5b",
   "metadata": {},
   "outputs": [
    {
     "data": {
      "text/plain": [
       "[4, 25, 49, 81, 64, 49]"
      ]
     },
     "execution_count": 9,
     "metadata": {},
     "output_type": "execute_result"
    }
   ],
   "source": [
    "# map Function\n",
    "rog_list=[2,5,7,9,8,7]\n",
    "def square(x):\n",
    "    return x**2\n",
    "map_object=map(square,rog_list)\n",
    "lis=list(map_object)\n",
    "lis"
   ]
  },
  {
   "cell_type": "code",
   "execution_count": 11,
   "id": "ba534b7b",
   "metadata": {},
   "outputs": [
    {
     "ename": "TypeError",
     "evalue": "unsupported operand type(s) for ** or pow(): 'list' and 'int'",
     "output_type": "error",
     "traceback": [
      "\u001b[0;31m---------------------------------------------------------------------------\u001b[0m",
      "\u001b[0;31mTypeError\u001b[0m                                 Traceback (most recent call last)",
      "Input \u001b[0;32mIn [11]\u001b[0m, in \u001b[0;36m<module>\u001b[0;34m\u001b[0m\n\u001b[1;32m      1\u001b[0m num\u001b[38;5;241m=\u001b[39m[\u001b[38;5;241m4\u001b[39m, \u001b[38;5;241m25\u001b[39m, \u001b[38;5;241m49\u001b[39m, \u001b[38;5;241m81\u001b[39m, \u001b[38;5;241m64\u001b[39m, \u001b[38;5;241m49\u001b[39m]\n\u001b[1;32m      2\u001b[0m square\u001b[38;5;241m=\u001b[39m\u001b[38;5;28;01mlambda\u001b[39;00m num:num\u001b[38;5;241m*\u001b[39m\u001b[38;5;241m*\u001b[39m\u001b[38;5;241m2\u001b[39m\n\u001b[0;32m----> 3\u001b[0m \u001b[43msquare\u001b[49m\u001b[43m(\u001b[49m\u001b[43mnum\u001b[49m\u001b[43m)\u001b[49m\n",
      "Input \u001b[0;32mIn [11]\u001b[0m, in \u001b[0;36m<lambda>\u001b[0;34m(num)\u001b[0m\n\u001b[1;32m      1\u001b[0m num\u001b[38;5;241m=\u001b[39m[\u001b[38;5;241m4\u001b[39m, \u001b[38;5;241m25\u001b[39m, \u001b[38;5;241m49\u001b[39m, \u001b[38;5;241m81\u001b[39m, \u001b[38;5;241m64\u001b[39m, \u001b[38;5;241m49\u001b[39m]\n\u001b[0;32m----> 2\u001b[0m square\u001b[38;5;241m=\u001b[39m\u001b[38;5;28;01mlambda\u001b[39;00m num:\u001b[43mnum\u001b[49m\u001b[38;5;241;43m*\u001b[39;49m\u001b[38;5;241;43m*\u001b[39;49m\u001b[38;5;241;43m2\u001b[39;49m\n\u001b[1;32m      3\u001b[0m square(num)\n",
      "\u001b[0;31mTypeError\u001b[0m: unsupported operand type(s) for ** or pow(): 'list' and 'int'"
     ]
    }
   ],
   "source": [
    "num=[4, 25, 49, 81, 64, 49]\n",
    "square=lambda num:num[]**2\n",
    "square(num)\n"
   ]
  },
  {
   "cell_type": "code",
   "execution_count": null,
   "id": "b338c3b0",
   "metadata": {},
   "outputs": [],
   "source": []
  }
 ],
 "metadata": {
  "kernelspec": {
   "display_name": "Python 3 (ipykernel)",
   "language": "python",
   "name": "python3"
  },
  "language_info": {
   "codemirror_mode": {
    "name": "ipython",
    "version": 3
   },
   "file_extension": ".py",
   "mimetype": "text/x-python",
   "name": "python",
   "nbconvert_exporter": "python",
   "pygments_lexer": "ipython3",
   "version": "3.8.10"
  }
 },
 "nbformat": 4,
 "nbformat_minor": 5
}
